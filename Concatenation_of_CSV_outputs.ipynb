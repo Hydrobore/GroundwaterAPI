{
  "nbformat": 4,
  "nbformat_minor": 0,
  "metadata": {
    "colab": {
      "provenance": []
    },
    "kernelspec": {
      "name": "python3",
      "display_name": "Python 3"
    },
    "language_info": {
      "name": "python"
    }
  },
  "cells": [
    {
      "cell_type": "code",
      "source": [
        "import shutil\n",
        "import os\n",
        "\n",
        "# Path to the sample_data directory\n",
        "sample_data_dir = '/content/sample_data'\n",
        "\n",
        "# Check if the sample_data directory exists and delete it\n",
        "if os.path.exists(sample_data_dir):\n",
        "    shutil.rmtree(sample_data_dir)\n",
        "\n",
        "# Verify the deletion\n",
        "print(f\"sample_data directory exists: {os.path.exists(sample_data_dir)}\")"
      ],
      "metadata": {
        "colab": {
          "base_uri": "https://localhost:8080/"
        },
        "id": "-LqKZjhtHa9y",
        "outputId": "e71b28c2-effd-436f-b045-ecb5d451c20b"
      },
      "execution_count": null,
      "outputs": [
        {
          "output_type": "stream",
          "name": "stdout",
          "text": [
            "sample_data directory exists: False\n"
          ]
        }
      ]
    },
    {
      "cell_type": "code",
      "execution_count": null,
      "metadata": {
        "id": "1yT8nv3wF5bA"
      },
      "outputs": [],
      "source": [
        "import pandas as pd\n",
        "import glob\n",
        "\n",
        "# List all CSV files in the directory\n",
        "csv_files = glob.glob('*.csv')\n",
        "\n",
        "# Initialize an empty list to hold dataframes\n",
        "dataframes = []\n",
        "\n",
        "# Define custom date parsing function\n",
        "def parse_dates(date_str):\n",
        "    formats = [\"%d/%m/%Y %H:%M\", \"%Y-%m-%dT%H:%M:%S\", \"%Y-%m-%d %H:%M:%S\"]\n",
        "    for fmt in formats:\n",
        "        try:\n",
        "            return pd.to_datetime(date_str, format=fmt)\n",
        "        except ValueError:\n",
        "            continue\n",
        "    # If none of the formats match, try default parsing\n",
        "    return pd.to_datetime(date_str)\n",
        "\n",
        "# Loop through the list of files and read each into a dataframe\n",
        "for file in csv_files:\n",
        "    df = pd.read_csv(file)\n",
        "    # Apply the custom date parsing function\n",
        "    df['date'] = df['date'].apply(parse_dates)\n",
        "    dataframes.append(df)\n",
        "\n",
        "# Concatenate all the dataframes into one\n",
        "combined_df = pd.concat(dataframes, ignore_index=True)\n",
        "\n",
        "# Save the combined dataframe to a new CSV file (optional)\n",
        "combined_df.to_csv('ultimate.csv', index=False)\n",
        "\n",
        "print(\"Combined DataFrame:\")\n",
        "print(combined_df.head())"
      ]
    },
    {
      "cell_type": "code",
      "source": [],
      "metadata": {
        "id": "5nYxAZA0F7E3"
      },
      "execution_count": null,
      "outputs": []
    }
  ]
}