{
  "nbformat": 4,
  "nbformat_minor": 0,
  "metadata": {
    "colab": {
      "provenance": []
    },
    "kernelspec": {
      "name": "python3",
      "display_name": "Python 3"
    },
    "language_info": {
      "name": "python"
    }
  },
  "cells": [
    {
      "cell_type": "code",
      "execution_count": null,
      "metadata": {
        "id": "LKxVRNerTT55"
      },
      "outputs": [],
      "source": [
        "import requests\n",
        "import csv\n",
        "import os\n",
        "\n",
        "# Define the base URL for the API\n",
        "base_url = \"http://environment.data.gov.uk/hydrology\"\n",
        "\n",
        "# List of GUIDs and their associated keywords\n",
        "WISKI_keyword_pairs = [\n",
        "    {\"WISKI\": \"SE62CLO1SS\", \"keyword\": \"Carlton Lake Bottom\"},\n",
        "\n",
        "    # Add more WISKI and keyword pairs as needed\n",
        "]\n",
        "\n",
        "# Create or open the master CSV file for writing\n",
        "master_output_file = 'combined_groundwaterlevels_dipped.csv'\n",
        "\n",
        "# Open the master CSV file for writing\n",
        "with open(master_output_file, 'w', newline='') as master_file:\n",
        "    master_writer = csv.writer(master_file)\n",
        "\n",
        "    # Write the header once at the top of the master file\n",
        "    master_writer.writerow([\"keyword\", \"date\", \"value\"])\n",
        "\n",
        "    # Loop through each GUID and keyword pair\n",
        "    for pair in WISKI_keyword_pairs:\n",
        "        WISKI = pair[\"WISKI\"]\n",
        "        keyword = pair[\"keyword\"]\n",
        "\n",
        "        # Construct the API endpoint URL for historical readings\n",
        "        endpoint = f\"/id/measures/-gw-dipped-i-mAOD-qualified/readings?mineq-date=2023-01-01&max-date=2023-12-31&station.wiskiID={WISKI}\"\n",
        "\n",
        "        # Construct the full URL\n",
        "        url = f\"{base_url}{endpoint}\"\n",
        "\n",
        "        # Send the GET request to the API\n",
        "        response = requests.get(url)\n",
        "\n",
        "        # Check if the request was successful\n",
        "        if response.status_code == 200:\n",
        "            # Parse the JSON response\n",
        "            data = response.json()\n",
        "\n",
        "            # Define the output CSV file name using the keyword\n",
        "            output_file = f'{keyword}_groundwaterlevels.csv'\n",
        "\n",
        "            # Open an individual CSV file for writing\n",
        "            with open(output_file, 'w', newline='') as file:\n",
        "                writer = csv.writer(file)\n",
        "\n",
        "                # Write the header\n",
        "                writer.writerow([\"date\", \"value\"])\n",
        "\n",
        "                # Write the data\n",
        "                for reading in data['items']:\n",
        "                    # Check if both 'dateTime' and 'value' keys exist\n",
        "                    if 'dateTime' in reading and 'value' in reading:\n",
        "                        date = reading['dateTime']\n",
        "                        value = reading['value']\n",
        "                        writer.writerow([date, value])\n",
        "\n",
        "                        # Write the same data to the master CSV file with the keyword\n",
        "                        master_writer.writerow([keyword, date, value])\n",
        "\n",
        "            print(f\"CSV file '{output_file}' has been downloaded and formatted successfully.\")\n",
        "        else:\n",
        "            print(f\"Failed to retrieve data for WISKI {WISKI} with keyword {keyword}: {response.status_code}\")\n",
        "\n",
        "print(f\"All data has been combined into '{master_output_file}' successfully.\")"
      ]
    }
  ]
}
